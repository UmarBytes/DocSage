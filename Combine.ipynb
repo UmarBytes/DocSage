{
 "cells": [
  {
   "cell_type": "markdown",
   "metadata": {},
   "source": [
    "## File Overview:\n",
    "This script combines training and testing datasets into a single unified folder structure. It utilizes Python's os, shutil, and ThreadPoolExecutor for efficient file operations and parallel processing."
   ]
  },
  {
   "cell_type": "markdown",
   "metadata": {},
   "source": [
    "## Import Libraries\n",
    "Imports required modules for file handling, directory creation, and multithreading."
   ]
  },
  {
   "cell_type": "code",
   "execution_count": null,
   "metadata": {},
   "outputs": [],
   "source": [
    "import os\n",
    "import shutil\n",
    "from concurrent.futures import ThreadPoolExecutor"
   ]
  },
  {
   "cell_type": "markdown",
   "metadata": {},
   "source": [
    "## Define Directory Structure and File Copy Functions\n",
    "Implements functions to create destination folder structures, copy files, and combine class samples from train and test directories."
   ]
  },
  {
   "cell_type": "code",
   "execution_count": null,
   "metadata": {},
   "outputs": [],
   "source": [
    "def create_directory_structure(source_path, destination_path):\n",
    "    \"\"\"Create destination directory structure mirroring the source.\"\"\"\n",
    "    for root, dirs, _ in os.walk(source_path):\n",
    "        for dir_name in dirs:\n",
    "            dest_dir = os.path.join(destination_path, os.path.relpath(os.path.join(root, dir_name), source_path))\n",
    "            os.makedirs(dest_dir, exist_ok=True)\n",
    "\n",
    "def copy_files(source_folder, destination_folder):\n",
    "    \"\"\"Copy files from source folder to destination folder.\"\"\"\n",
    "    for root, _, files in os.walk(source_folder):\n",
    "        for file_name in files:\n",
    "            source_file = os.path.join(root, file_name)\n",
    "            rel_path = os.path.relpath(source_file, source_folder)\n",
    "            dest_file = os.path.join(destination_folder, rel_path)\n",
    "            os.makedirs(os.path.dirname(dest_file), exist_ok=True)  # Ensure directories exist\n",
    "            shutil.copy2(source_file, dest_file)\n",
    "\n",
    "def copy_class_samples(class_name, train_path, test_path, dest_path):\n",
    "    \"\"\"Copy files for a given class from train and test folders to destination.\"\"\"\n",
    "    train_class_path = os.path.join(train_path, class_name)\n",
    "    test_class_path = os.path.join(test_path, class_name)\n",
    "    dest_class_path = os.path.join(dest_path, class_name)\n",
    "\n",
    "    os.makedirs(dest_class_path, exist_ok=True)\n",
    "\n",
    "    if os.path.exists(train_class_path):\n",
    "        copy_files(train_class_path, dest_class_path)\n",
    "    if os.path.exists(test_class_path):\n",
    "        copy_files(test_class_path, dest_class_path)"
   ]
  },
  {
   "cell_type": "markdown",
   "metadata": {},
   "source": [
    "## Main Function: Dataset Integration\n",
    "Combines datasets by identifying class folders in train and test directories, and processes them in parallel for efficiency."
   ]
  },
  {
   "cell_type": "code",
   "execution_count": 1,
   "metadata": {},
   "outputs": [],
   "source": [
    "def main():\n",
    "    train_folder = r\"C:\\Users\\jamee\\Downloads\\archive\\train\"  # Path to the train folder\n",
    "    test_folder = r\"C:\\Users\\jamee\\Downloads\\archive\\test\"    # Path to the test folder\n",
    "    destination_folder = r\"D:\\Umar\\Dermnet\"         # Path to the destination folder\n",
    "\n",
    "    # Ensure the destination folder exists\n",
    "    os.makedirs(destination_folder, exist_ok=True)\n",
    "\n",
    "    # Get all class folder names from train and test folders\n",
    "    train_classes = os.listdir(train_folder)\n",
    "    test_classes = os.listdir(test_folder)\n",
    "    all_classes = set(train_classes) | set(test_classes)  # Combine unique class names\n",
    "\n",
    "    # Parallel processing\n",
    "    with ThreadPoolExecutor() as executor:\n",
    "        futures = []\n",
    "        for class_name in all_classes:\n",
    "            futures.append(\n",
    "                executor.submit(copy_class_samples, class_name, train_folder, test_folder, destination_folder)\n",
    "            )\n",
    "        # Ensure all tasks complete\n",
    "        for future in futures:\n",
    "            future.result()\n",
    "\n",
    "if __name__ == \"__main__\":\n",
    "    main()"
   ]
  }
 ],
 "metadata": {
  "kernelspec": {
   "display_name": "Python 3",
   "language": "python",
   "name": "python3"
  },
  "language_info": {
   "codemirror_mode": {
    "name": "ipython",
    "version": 3
   },
   "file_extension": ".py",
   "mimetype": "text/x-python",
   "name": "python",
   "nbconvert_exporter": "python",
   "pygments_lexer": "ipython3",
   "version": "3.11.7"
  }
 },
 "nbformat": 4,
 "nbformat_minor": 2
}
