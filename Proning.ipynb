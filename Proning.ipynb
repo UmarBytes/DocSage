{
 "cells": [
  {
   "cell_type": "markdown",
   "metadata": {},
   "source": [
    "## Description\n",
    "This script selects a specified number of random samples from each class folder in a dataset and deletes the rest, ensuring consistency and optimal storage usage. It utilizes multithreading for efficient processing."
   ]
  },
  {
   "cell_type": "markdown",
   "metadata": {},
   "source": [
    "## Library Imports\n",
    "Imports libraries for file operations (os, shutil), randomization (random), and parallel processing (ThreadPoolExecutor)."
   ]
  },
  {
   "cell_type": "code",
   "execution_count": null,
   "metadata": {},
   "outputs": [],
   "source": [
    "import os\n",
    "import random\n",
    "import shutil\n",
    "from concurrent.futures import ThreadPoolExecutor"
   ]
  },
  {
   "cell_type": "markdown",
   "metadata": {},
   "source": [
    "## Process Single Class\n",
    "Defines process_class to select a subset of files from a class folder, remove unselected files, and handle folder cleanup."
   ]
  },
  {
   "cell_type": "code",
   "execution_count": null,
   "metadata": {},
   "outputs": [],
   "source": [
    "def process_class(class_dir, base_dir, sample_size=1000):\n",
    "    \n",
    "    class_path = os.path.join(base_dir, class_dir)\n",
    "    if os.path.isdir(class_path):\n",
    "        \n",
    "        selected_samples_folder = os.path.join(class_path, \"selected_samples\")\n",
    "        if os.path.isdir(selected_samples_folder):\n",
    "            shutil.rmtree(selected_samples_folder)\n",
    "            print(f\"Deleted 'selected_samples' folder in class '{class_dir}'.\")\n",
    "\n",
    "        # List all files in the class directory\n",
    "        files = os.listdir(class_path)\n",
    "\n",
    "        # If there are fewer than the requested samples, skip this class\n",
    "        if len(files) < sample_size:\n",
    "            print(f\"Not enough files in class '{class_dir}' to select {sample_size} samples.\")\n",
    "            return\n",
    "\n",
    "        # Randomly shuffle the files\n",
    "        random.shuffle(files)\n",
    "\n",
    "        # Select the first 'sample_size' files\n",
    "        selected_files = files[:sample_size]\n",
    "\n",
    "        # Loop through all the files and delete the ones that are not selected\n",
    "        for file in files:\n",
    "            if file not in selected_files:\n",
    "                file_path = os.path.join(class_path, file)\n",
    "                if os.path.isfile(file_path):\n",
    "                    os.remove(file_path)\n",
    "\n",
    "        print(f\"Kept {sample_size} files and deleted the rest from class '{class_dir}'.\")"
   ]
  },
  {
   "cell_type": "markdown",
   "metadata": {},
   "source": [
    "## Parallel Class Processing\n",
    "Implements select_samples_from_class_parallel to process multiple class folders in parallel, leveraging ThreadPoolExecutor for scalability."
   ]
  },
  {
   "cell_type": "code",
   "execution_count": 2,
   "metadata": {},
   "outputs": [
    {
     "name": "stdout",
     "output_type": "stream",
     "text": [
      "Not enough files in class 'Abuse' to select 1000 samples.\n",
      "Deleted 'selected_samples' folder in class 'Arson'.\n",
      "Deleted 'selected_samples' folder in class 'RoadAccidents'.\n",
      "Deleted 'selected_samples' folder in class 'Burglary'.\n",
      "Deleted 'selected_samples' folder in class 'Shooting'.\n",
      "Deleted 'selected_samples' folder in class 'Fighting'.\n",
      "Deleted 'selected_samples' folder in class 'Robbery'.\n",
      "Deleted 'selected_samples' folder in class 'NormalVideos'.\n",
      "Deleted 'selected_samples' folder in class 'Explosion'.\n",
      "Not enough files in class 'Robbery' to select 1000 samples.\n",
      "Not enough files in class 'Fighting' to select 1000 samples.\n",
      "Deleted 'selected_samples' folder in class 'Arrest'.\n",
      "Deleted 'selected_samples' folder in class 'Stealing'.\n",
      "Deleted 'selected_samples' folder in class 'Vandalism'.\n",
      "Deleted 'selected_samples' folder in class 'Assault'.\n",
      "Deleted 'selected_samples' folder in class 'Shoplifting'.\n",
      "Not enough files in class 'Vandalism' to select 1000 samples.\n",
      "Kept 1000 files and deleted the rest from class 'Stealing'.\n",
      "Kept 1000 files and deleted the rest from class 'Arson'.\n",
      "Kept 1000 files and deleted the rest from class 'RoadAccidents'.\n",
      "Kept 1000 files and deleted the rest from class 'Assault'.\n",
      "Kept 1000 files and deleted the rest from class 'Arrest'.\n",
      "Kept 1000 files and deleted the rest from class 'Explosion'.\n",
      "Kept 1000 files and deleted the rest from class 'Shoplifting'.\n",
      "Kept 1000 files and deleted the rest from class 'Shooting'.\n",
      "Kept 1000 files and deleted the rest from class 'Burglary'.\n",
      "Kept 1000 files and deleted the rest from class 'NormalVideos'.\n"
     ]
    }
   ],
   "source": [
    "\n",
    "\n",
    "def select_samples_from_class_parallel(base_dir, sample_size=1000, max_workers=4):\n",
    "    \n",
    "    # List all class directories (subdirectories)\n",
    "    class_dirs = [d for d in os.listdir(base_dir) if os.path.isdir(os.path.join(base_dir, d))]\n",
    "\n",
    "    # Create a ThreadPoolExecutor to process each class in parallel\n",
    "    with ThreadPoolExecutor(max_workers=max_workers) as executor:\n",
    "        # Submit the processing task for each class\n",
    "        for class_dir in class_dirs:\n",
    "            executor.submit(process_class, class_dir, base_dir, sample_size)\n",
    "\n",
    "# Usage Example\n",
    "base_address = r'C:\\Users\\jamee\\Favorites\\Downloads\\ucf\\Test'  # Update this path to your dataset path\n",
    "select_samples_from_class_parallel(base_address, sample_size=1000, max_workers=32)"
   ]
  }
 ],
 "metadata": {
  "kernelspec": {
   "display_name": "Python 3",
   "language": "python",
   "name": "python3"
  },
  "language_info": {
   "codemirror_mode": {
    "name": "ipython",
    "version": 3
   },
   "file_extension": ".py",
   "mimetype": "text/x-python",
   "name": "python",
   "nbconvert_exporter": "python",
   "pygments_lexer": "ipython3",
   "version": "3.11.7"
  }
 },
 "nbformat": 4,
 "nbformat_minor": 2
}
