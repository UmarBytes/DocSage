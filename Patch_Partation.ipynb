{
 "cells": [
  {
   "cell_type": "markdown",
   "metadata": {},
   "source": [
    "## Description\n",
    "This script partitions an image into uniform patches of a specified size using PIL and NumPy, with visualizations provided by Matplotlib. It calculates patch details such as dimensions, count, and values."
   ]
  },
  {
   "cell_type": "markdown",
   "metadata": {},
   "source": [
    "## Library Imports\n",
    "Description: Imports libraries for image processing, numerical operations, and visualization."
   ]
  },
  {
   "cell_type": "code",
   "execution_count": null,
   "metadata": {
    "vscode": {
     "languageId": "plaintext"
    }
   },
   "outputs": [],
   "source": [
    "from PIL import Image\n",
    "import numpy as np\n",
    "import matplotlib.pyplot as plt"
   ]
  },
  {
   "cell_type": "markdown",
   "metadata": {},
   "source": [
    "# Patch Partitioning\n",
    "Divides an image into patches, validates dimensions, visualizes the grid, and outputs patch details like count and size."
   ]
  },
  {
   "cell_type": "code",
   "execution_count": null,
   "metadata": {
    "vscode": {
     "languageId": "plaintext"
    }
   },
   "outputs": [],
   "source": [
    "def apply_patch_partition_logic(image_path, patch_size):\n",
    "    # Load the input image and resize it to 224x224\n",
    "    image = Image.open(image_path).resize((224, 224))\n",
    "    \n",
    "    # Convert the image to a numpy array\n",
    "    image_array = np.array(image)\n",
    "    \n",
    "    # Get image dimensions\n",
    "    height, width, channels = image_array.shape\n",
    "\n",
    "    # Ensure dimensions are 224x224x3\n",
    "    assert height == 224 and width == 224 and channels == 3, \"Image dimensions should be 224x224x3.\"\n",
    "\n",
    "    # Calculate the number of patches\n",
    "    patches_per_row = width // patch_size\n",
    "    patches_per_column = height // patch_size\n",
    "    total_patches = patches_per_row * patches_per_column\n",
    "\n",
    "    # Extract patches and calculate their values\n",
    "    patches = []\n",
    "    for y in range(0, height, patch_size):\n",
    "        for x in range(0, width, patch_size):\n",
    "            patch = image_array[y:y + patch_size, x:x + patch_size, :]\n",
    "            patches.append(patch)\n",
    "\n",
    "    # Validate the size of each patch\n",
    "    patch_values = patches[0].size  # Total values in the first patch\n",
    "    assert patch_values == patch_size * patch_size * channels, \"Patch size mismatch!\"\n",
    "\n",
    "    # Draw grid for visualization\n",
    "    grid_image = image.copy()\n",
    "    draw = ImageDraw.Draw(grid_image)\n",
    "    for x in range(0, width, patch_size):\n",
    "        draw.line([(x, 0), (x, height)], fill=\"white\", width=1)\n",
    "    for y in range(0, height, patch_size):\n",
    "        draw.line([(0, y), (width, y)], fill=\"white\", width=1)\n",
    "\n",
    "    patch_details = {\n",
    "        \"Image Size\": f\"{height}x{width}\",\n",
    "        \"Patch Size\": f\"{patch_size}x{patch_size}\",\n",
    "        \"Patches per Row\": patches_per_row,\n",
    "        \"Patches per Column\": patches_per_column,\n",
    "        \"Total Patches\": total_patches,\n",
    "        \"Values per Patch\": patch_values\n",
    "    }\n",
    "\n",
    "    return grid_image, patch_details\n",
    "\n",
    "# Example usage\n",
    "image_path = r\"C:\\Users\\jamee\\Downloads\\R.png\"  # Replace with your image path\n",
    "patch_size = 4  # 4x4 patches\n",
    "\n",
    "# Apply patch partitioning\n",
    "patched_image, patch_details = apply_patch_partition_logic(image_path, patch_size)\n",
    "\n",
    "# Display the patched image\n",
    "plt.imshow(patched_image)\n",
    "plt.title(\"Image with Patch Partition (4x4)\")\n",
    "plt.axis(\"off\")\n",
    "plt.show()\n",
    "\n",
    "# Print patch details\n",
    "for key, value in patch_details.items():\n",
    "    print(f\"{key}: {value}\")\n"
   ]
  }
 ],
 "metadata": {
  "kernelspec": {
   "display_name": "Python 3",
   "language": "python",
   "name": "python3"
  },
  "language_info": {
   "codemirror_mode": {
    "name": "ipython",
    "version": 3
   },
   "file_extension": ".py",
   "mimetype": "text/x-python",
   "name": "python",
   "nbconvert_exporter": "python",
   "pygments_lexer": "ipython3",
   "version": "3.11.7"
  }
 },
 "nbformat": 4,
 "nbformat_minor": 2
}
