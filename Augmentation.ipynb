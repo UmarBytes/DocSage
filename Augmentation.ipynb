{
 "cells": [
  {
   "cell_type": "markdown",
   "metadata": {},
   "source": [
    "## File Overview:\n",
    "This script augments images in a dataset to improve model training diversity. It uses torchvision.transforms to apply transformations (e.g., rotation, cropping, and color jitter) and saves the augmented images in the corresponding class folders."
   ]
  },
  {
   "cell_type": "markdown",
   "metadata": {},
   "source": [
    "## Import Libraries\n",
    "Imports required libraries for file handling, image processing, and progress tracking."
   ]
  },
  {
   "cell_type": "code",
   "execution_count": null,
   "metadata": {},
   "outputs": [],
   "source": [
    "import os\n",
    "import torchvision.transforms as transforms\n",
    "from PIL import Image\n",
    "from tqdm import tqdm"
   ]
  },
  {
   "cell_type": "markdown",
   "metadata": {},
   "source": [
    "## Set Parameters and Define Transformations\n",
    "Configures augmentation settings and defines transformations for image variability."
   ]
  },
  {
   "cell_type": "code",
   "execution_count": null,
   "metadata": {},
   "outputs": [],
   "source": [
    "# Set up base directory\n",
    "base_dir = r'D:\\Umar\\Dermnet'\n",
    "\n",
    "# Parameters\n",
    "num_augmented_images_per_original = 7\n",
    "output_size = (224, 224)  # Expected input size for Swin Transformer\n",
    "\n",
    "# Define transformations for data augmentation\n",
    "augmentation_transforms = transforms.Compose([\n",
    "    transforms.RandomRotation(15),  # Smaller rotation to avoid distorting lesions\n",
    "    transforms.RandomResizedCrop(output_size, scale=(0.9, 1.0)),  # Preserve most features while cropping slightly\n",
    "    transforms.RandomHorizontalFlip(p=0.5),  # Horizontal flips for variability\n",
    "    transforms.ColorJitter(brightness=0.1, contrast=0.1, saturation=0.1, hue=0.05),  # Subtle changes in brightness and color\n",
    "    transforms.RandomAffine(degrees=0, translate=(0.1, 0.1)),  # Minor translations to mimic camera shifts\n",
    "    transforms.ToTensor()\n",
    "])"
   ]
  },
  {
   "cell_type": "markdown",
   "metadata": {},
   "source": [
    "## Augment and Save Images Function\n",
    "Defines a function to apply transformations and save augmented images."
   ]
  },
  {
   "cell_type": "code",
   "execution_count": null,
   "metadata": {},
   "outputs": [],
   "source": [
    "# Function to apply augmentation and save augmented images\n",
    "def augment_and_save_images(class_dir):\n",
    "\n",
    "    image_files = [f for f in os.listdir(class_dir) if os.path.isfile(os.path.join(class_dir, f))]\n",
    "    image_files = [f for f in image_files if f.lower().endswith(('.png', '.jpg', '.jpeg'))]\n",
    "\n",
    "    for file_name in tqdm(image_files, desc=f\"Augmenting {class_dir}\", unit=\"file\"):\n",
    "        file_path = os.path.join(class_dir, file_name)\n",
    "        try:\n",
    "            image = Image.open(file_path).convert('RGB')  # Ensure RGB format\n",
    "        except Exception as e:\n",
    "            print(f\"Error opening {file_path}: {e}\")\n",
    "            continue\n",
    "\n",
    "        # Create augmented images\n",
    "        for i in range(num_augmented_images_per_original):\n",
    "            augmented_image = augmentation_transforms(image)  # Apply augmentation\n",
    "            augmented_image_pil = transforms.ToPILImage()(augmented_image)  # Convert back to PIL Image\n",
    "\n",
    "            # Save augmented image with a unique name\n",
    "            new_file_name = f'aug_{i}_{os.path.splitext(file_name)[0]}.jpg'\n",
    "            augmented_image_pil.save(os.path.join(class_dir, new_file_name), quality=95)"
   ]
  },
  {
   "cell_type": "markdown",
   "metadata": {},
   "source": [
    "## Process Dataset Classes\n",
    "Processes each class folder, applies augmentations, and saves results."
   ]
  },
  {
   "cell_type": "code",
   "execution_count": 2,
   "metadata": {},
   "outputs": [
    {
     "name": "stdout",
     "output_type": "stream",
     "text": [
      "Starting image augmentation...\n",
      "Processing class: Acne and Rosacea Photos\n"
     ]
    },
    {
     "name": "stderr",
     "output_type": "stream",
     "text": [
      "Augmenting D:\\Umar\\Dermnet\\Acne and Rosacea Photos: 100%|██████████| 862/862 [01:31<00:00,  9.46file/s]\n"
     ]
    },
    {
     "name": "stdout",
     "output_type": "stream",
     "text": [
      "Processing class: Actinic Keratosis Basal Cell Carcinoma and other Malignant Lesions\n"
     ]
    },
    {
     "name": "stderr",
     "output_type": "stream",
     "text": [
      "Augmenting D:\\Umar\\Dermnet\\Actinic Keratosis Basal Cell Carcinoma and other Malignant Lesions: 100%|██████████| 1393/1393 [02:17<00:00, 10.17file/s]\n"
     ]
    },
    {
     "name": "stdout",
     "output_type": "stream",
     "text": [
      "Processing class: Atopic Dermatitis Photos\n"
     ]
    },
    {
     "name": "stderr",
     "output_type": "stream",
     "text": [
      "Augmenting D:\\Umar\\Dermnet\\Atopic Dermatitis Photos: 100%|██████████| 605/605 [01:06<00:00,  9.13file/s]\n"
     ]
    },
    {
     "name": "stdout",
     "output_type": "stream",
     "text": [
      "Processing class: Bullous Disease Photos\n"
     ]
    },
    {
     "name": "stderr",
     "output_type": "stream",
     "text": [
      "Augmenting D:\\Umar\\Dermnet\\Bullous Disease Photos: 100%|██████████| 544/544 [00:56<00:00,  9.68file/s]\n"
     ]
    },
    {
     "name": "stdout",
     "output_type": "stream",
     "text": [
      "Processing class: Cellulitis Impetigo and other Bacterial Infections\n"
     ]
    },
    {
     "name": "stderr",
     "output_type": "stream",
     "text": [
      "Augmenting D:\\Umar\\Dermnet\\Cellulitis Impetigo and other Bacterial Infections: 100%|██████████| 354/354 [00:37<00:00,  9.42file/s]\n"
     ]
    },
    {
     "name": "stdout",
     "output_type": "stream",
     "text": [
      "Processing class: Eczema Photos\n"
     ]
    },
    {
     "name": "stderr",
     "output_type": "stream",
     "text": [
      "Augmenting D:\\Umar\\Dermnet\\Eczema Photos: 100%|██████████| 1440/1440 [02:29<00:00,  9.66file/s]\n"
     ]
    },
    {
     "name": "stdout",
     "output_type": "stream",
     "text": [
      "Processing class: Exanthems and Drug Eruptions\n"
     ]
    },
    {
     "name": "stderr",
     "output_type": "stream",
     "text": [
      "Augmenting D:\\Umar\\Dermnet\\Exanthems and Drug Eruptions: 100%|██████████| 477/477 [00:47<00:00,  9.99file/s]\n"
     ]
    },
    {
     "name": "stdout",
     "output_type": "stream",
     "text": [
      "Processing class: Hair Loss Photos Alopecia and other Hair Diseases\n"
     ]
    },
    {
     "name": "stderr",
     "output_type": "stream",
     "text": [
      "Augmenting D:\\Umar\\Dermnet\\Hair Loss Photos Alopecia and other Hair Diseases: 100%|██████████| 291/291 [00:29<00:00,  9.86file/s]\n"
     ]
    },
    {
     "name": "stdout",
     "output_type": "stream",
     "text": [
      "Processing class: Herpes HPV and other STDs Photos\n"
     ]
    },
    {
     "name": "stderr",
     "output_type": "stream",
     "text": [
      "Augmenting D:\\Umar\\Dermnet\\Herpes HPV and other STDs Photos: 100%|██████████| 504/504 [00:52<00:00,  9.60file/s]\n"
     ]
    },
    {
     "name": "stdout",
     "output_type": "stream",
     "text": [
      "Processing class: Light Diseases and Disorders of Pigmentation\n"
     ]
    },
    {
     "name": "stderr",
     "output_type": "stream",
     "text": [
      "Augmenting D:\\Umar\\Dermnet\\Light Diseases and Disorders of Pigmentation: 100%|██████████| 702/702 [01:12<00:00,  9.64file/s]\n"
     ]
    },
    {
     "name": "stdout",
     "output_type": "stream",
     "text": [
      "Processing class: Lupus and other Connective Tissue diseases\n"
     ]
    },
    {
     "name": "stderr",
     "output_type": "stream",
     "text": [
      "Augmenting D:\\Umar\\Dermnet\\Lupus and other Connective Tissue diseases: 100%|██████████| 520/520 [00:50<00:00, 10.30file/s]\n"
     ]
    },
    {
     "name": "stdout",
     "output_type": "stream",
     "text": [
      "Processing class: Melanoma Skin Cancer Nevi and Moles\n"
     ]
    },
    {
     "name": "stderr",
     "output_type": "stream",
     "text": [
      "Augmenting D:\\Umar\\Dermnet\\Melanoma Skin Cancer Nevi and Moles: 100%|██████████| 562/562 [00:54<00:00, 10.24file/s]\n"
     ]
    },
    {
     "name": "stdout",
     "output_type": "stream",
     "text": [
      "Processing class: Nail Fungus and other Nail Disease\n"
     ]
    },
    {
     "name": "stderr",
     "output_type": "stream",
     "text": [
      "Augmenting D:\\Umar\\Dermnet\\Nail Fungus and other Nail Disease: 100%|██████████| 1272/1272 [02:09<00:00,  9.79file/s]\n"
     ]
    },
    {
     "name": "stdout",
     "output_type": "stream",
     "text": [
      "Processing class: Poison Ivy Photos and other Contact Dermatitis\n"
     ]
    },
    {
     "name": "stderr",
     "output_type": "stream",
     "text": [
      "Augmenting D:\\Umar\\Dermnet\\Poison Ivy Photos and other Contact Dermatitis: 100%|██████████| 316/316 [00:33<00:00,  9.55file/s]\n"
     ]
    },
    {
     "name": "stdout",
     "output_type": "stream",
     "text": [
      "Processing class: Psoriasis pictures Lichen Planus and related diseases\n"
     ]
    },
    {
     "name": "stderr",
     "output_type": "stream",
     "text": [
      "Augmenting D:\\Umar\\Dermnet\\Psoriasis pictures Lichen Planus and related diseases: 100%|██████████| 1714/1714 [03:25<00:00,  8.36file/s]\n"
     ]
    },
    {
     "name": "stdout",
     "output_type": "stream",
     "text": [
      "Processing class: Scabies Lyme Disease and other Infestations and Bites\n"
     ]
    },
    {
     "name": "stderr",
     "output_type": "stream",
     "text": [
      "Augmenting D:\\Umar\\Dermnet\\Scabies Lyme Disease and other Infestations and Bites: 100%|██████████| 522/522 [00:51<00:00, 10.08file/s]\n"
     ]
    },
    {
     "name": "stdout",
     "output_type": "stream",
     "text": [
      "Processing class: Seborrheic Keratoses and other Benign Tumors\n"
     ]
    },
    {
     "name": "stderr",
     "output_type": "stream",
     "text": [
      "Augmenting D:\\Umar\\Dermnet\\Seborrheic Keratoses and other Benign Tumors: 100%|██████████| 1695/1695 [02:48<00:00, 10.05file/s]\n"
     ]
    },
    {
     "name": "stdout",
     "output_type": "stream",
     "text": [
      "Processing class: Systemic Disease\n"
     ]
    },
    {
     "name": "stderr",
     "output_type": "stream",
     "text": [
      "Augmenting D:\\Umar\\Dermnet\\Systemic Disease: 100%|██████████| 752/752 [01:14<00:00, 10.15file/s]\n"
     ]
    },
    {
     "name": "stdout",
     "output_type": "stream",
     "text": [
      "Processing class: Tinea Ringworm Candidiasis and other Fungal Infections\n"
     ]
    },
    {
     "name": "stderr",
     "output_type": "stream",
     "text": [
      "Augmenting D:\\Umar\\Dermnet\\Tinea Ringworm Candidiasis and other Fungal Infections: 100%|██████████| 1568/1568 [02:36<00:00,  9.99file/s]\n"
     ]
    },
    {
     "name": "stdout",
     "output_type": "stream",
     "text": [
      "Processing class: Urticaria Hives\n"
     ]
    },
    {
     "name": "stderr",
     "output_type": "stream",
     "text": [
      "Augmenting D:\\Umar\\Dermnet\\Urticaria Hives: 100%|██████████| 261/261 [00:27<00:00,  9.41file/s]\n"
     ]
    },
    {
     "name": "stdout",
     "output_type": "stream",
     "text": [
      "Processing class: Vascular Tumors\n"
     ]
    },
    {
     "name": "stderr",
     "output_type": "stream",
     "text": [
      "Augmenting D:\\Umar\\Dermnet\\Vascular Tumors: 100%|██████████| 593/593 [01:04<00:00,  9.19file/s]\n"
     ]
    },
    {
     "name": "stdout",
     "output_type": "stream",
     "text": [
      "Processing class: Vasculitis Photos\n"
     ]
    },
    {
     "name": "stderr",
     "output_type": "stream",
     "text": [
      "Augmenting D:\\Umar\\Dermnet\\Vasculitis Photos: 100%|██████████| 517/517 [00:52<00:00,  9.81file/s]\n"
     ]
    },
    {
     "name": "stdout",
     "output_type": "stream",
     "text": [
      "Processing class: Warts Molluscum and other Viral Infections\n"
     ]
    },
    {
     "name": "stderr",
     "output_type": "stream",
     "text": [
      "Augmenting D:\\Umar\\Dermnet\\Warts Molluscum and other Viral Infections: 100%|██████████| 1314/1314 [02:12<00:00,  9.90file/s]"
     ]
    },
    {
     "name": "stdout",
     "output_type": "stream",
     "text": [
      "Image augmentation completed.\n"
     ]
    },
    {
     "name": "stderr",
     "output_type": "stream",
     "text": [
      "\n"
     ]
    }
   ],
   "source": [
    "# Process each class directory\n",
    "def process_classes(base_dir):\n",
    "\n",
    "    for class_name in os.listdir(base_dir):\n",
    "        class_dir = os.path.join(base_dir, class_name)\n",
    "        if os.path.isdir(class_dir):\n",
    "            print(f\"Processing class: {class_name}\")\n",
    "            augment_and_save_images(class_dir)\n",
    "\n",
    "if __name__ == \"__main__\":\n",
    "    print(\"Starting image augmentation...\")\n",
    "    process_classes(base_dir)\n",
    "    print(\"Image augmentation completed.\")"
   ]
  }
 ],
 "metadata": {
  "kernelspec": {
   "display_name": "Python 3",
   "language": "python",
   "name": "python3"
  },
  "language_info": {
   "codemirror_mode": {
    "name": "ipython",
    "version": 3
   },
   "file_extension": ".py",
   "mimetype": "text/x-python",
   "name": "python",
   "nbconvert_exporter": "python",
   "pygments_lexer": "ipython3",
   "version": "3.11.7"
  }
 },
 "nbformat": 4,
 "nbformat_minor": 2
}
