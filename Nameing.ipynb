{
 "cells": [
  {
   "cell_type": "markdown",
   "metadata": {},
   "source": [
    "# Description\n",
    "This script automates renaming image files in a directory with a specified prefix while preserving their file extensions. It filters by common image formats and ensures consistent, conflict-free naming.\n",
    "\n",
    "# Cell Titles and Descriptions\n",
    "\n",
    "Implements the rename_images function to rename images in a directory by:\n",
    "Filtering files by image extensions.\n",
    "Renaming them with a temporary unique name to avoid conflicts.\n",
    "Assigning final names with a user-defined prefix and numeric sequence.\n",
    "\n"
   ]
  },
  {
   "cell_type": "code",
   "execution_count": 4,
   "metadata": {},
   "outputs": [
    {
     "name": "stdout",
     "output_type": "stream",
     "text": [
      "Renamed 6277 images in 'C:\\Users\\jamee\\Favorites\\Downloads\\DocSage' with prefix 'Docsage'\n"
     ]
    }
   ],
   "source": [
    "import os\n",
    "\n",
    "def rename_images(directory, prefix):\n",
    "    # Get all files in the directory\n",
    "    files = os.listdir(directory)\n",
    "\n",
    "    # Filter files to include only images (by extension)\n",
    "    image_extensions = {'.jpg', '.jpeg', '.png', '.bmp', '.gif'}\n",
    "    image_files = [f for f in files if os.path.splitext(f)[1].lower() in image_extensions]\n",
    "\n",
    "    # Sort files for consistent renaming (optional but helps debugging)\n",
    "    image_files.sort()\n",
    "\n",
    "    # Rename images\n",
    "    for idx, file in enumerate(image_files, start=1):\n",
    "        # Create a temporary unique filename to avoid conflicts\n",
    "        temp_name = f\"temp_{prefix}{idx}{os.path.splitext(file)[1]}\"\n",
    "        temp_path = os.path.join(directory, temp_name)\n",
    "\n",
    "        # Get full paths\n",
    "        old_path = os.path.join(directory, file)\n",
    "\n",
    "        # Rename to temporary filename\n",
    "        os.rename(old_path, temp_path)\n",
    "\n",
    "    # Rename from temporary names to final names\n",
    "    temp_files = [f for f in os.listdir(directory) if f.startswith(\"temp_\")]\n",
    "    temp_files.sort()\n",
    "\n",
    "    for idx, file in enumerate(temp_files, start=1):\n",
    "        final_name = f\"{prefix}{idx}{os.path.splitext(file)[1]}\"\n",
    "        temp_path = os.path.join(directory, file)\n",
    "        final_path = os.path.join(directory, final_name)\n",
    "\n",
    "        os.rename(temp_path, final_path)\n",
    "\n",
    "    print(f\"Renamed {len(image_files)} images in '{directory}' with prefix '{prefix}'\")\n",
    "\n",
    "# Usage example\n",
    "directory = r\"C:\\Users\\jamee\\Favorites\\Downloads\\DocSage\"  # Replace with your folder path\n",
    "prefix = \"Docsage\"\n",
    "rename_images(directory, prefix)\n"
   ]
  }
 ],
 "metadata": {
  "kernelspec": {
   "display_name": "Python 3",
   "language": "python",
   "name": "python3"
  },
  "language_info": {
   "codemirror_mode": {
    "name": "ipython",
    "version": 3
   },
   "file_extension": ".py",
   "mimetype": "text/x-python",
   "name": "python",
   "nbconvert_exporter": "python",
   "pygments_lexer": "ipython3",
   "version": "3.11.7"
  }
 },
 "nbformat": 4,
 "nbformat_minor": 2
}
